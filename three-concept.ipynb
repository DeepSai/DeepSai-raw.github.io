{
 "cells": [
  {
   "cell_type": "markdown",
   "metadata": {},
   "source": [
    "# 大数法则，中心极限定理，抽样分布\n",
    "\n",
    "## Law of Large Numbers\n",
    "The larger the sample size, the closer the statistic gets to the parameters.\n",
    "\n",
    "## Central Limit Theorem\n",
    "With a large enough sample size the sampling distribution of the mean will be normally distributed.\n",
    "\n",
    "Alternative definition: Given a population with a finite mean $\\mu$ and a finite non-zero variance $\\sigma^2$, the sampling distribution of the mean approaches a normal distribution with a mean of $\\mu$ and a variance of $\\frac{\\sigma^2}{N} $as N, the sample size, increases.\n",
    "\n",
    "\n",
    "## Sampling Distribution\n",
    "### sampling distribution of the mean \n",
    "If a population's mean is $\\mu$, then the mean of the sampling distribution of the sample mean is also $\\mu$. Denoted with symbol $\\mu_M$.\n",
    "\n",
    "mean: $$\\mu_M = \\mu$$\n",
    "\n",
    "variance: $$\\sigma_{M}^2 = \\frac{\\sigma^2}{N}$$ (N is the sample size)\n",
    "\n",
    "standard error of the mean(standard deviation of the sampling distribution of the sample mean): $$ \\sigma_M = \\frac{\\sigma}{\\sqrt N} $$\n",
    "\n",
    "### sampling distribution of the difference between means\n",
    "mean: $$\\mu_{M_1 - M_2} = \\mu_1 - \\mu_2$$\n",
    "\n",
    "variance:\n",
    "$$ \\sigma_{M_1 - M_2}^2 = \\sigma_{M_1}^2 + \\sigma_{M_2}^2 $$\n",
    "\n",
    "\n",
    "$$ \\sigma_{M_1 - M_2}^2 = \\frac{\\sigma_{1}^2}{N_1} + \\frac{\\sigma_{2}^2}{N_2} $$\n",
    "\n",
    "standard error:\n",
    "$$ \\sigma_{M_1 - M_2} = \\sqrt {\\frac{\\sigma_{1}^2}{N_1} + \\frac{\\sigma_{2}^2}{N_2}} $$\n",
    "\n",
    "### variance sum law\n",
    "The variance of variable X plus or minus variable Y is equal to the variance of X plus the variance of Y:\n",
    "\n",
    "$$ \\sigma_{X\\pm Y}^2 = \\sigma_X^2 + \\sigma_X^2 $$\n",
    "\n",
    "> tip: only apply when the variables are independent.\n",
    "\n",
    "\n",
    "#### 潦草翻译\n",
    "大数法则: 随着样本容量的增加，样本均值越来越接近于总体均值。\n",
    "\n",
    "中心极限定理: 样本容量足够大时，样本均值的抽样分布呈正态分布。\n",
    "\n",
    "常见的抽样分布：均值抽样分，均数差抽样分布"
   ]
  }
 ],
 "metadata": {
  "kernelspec": {
   "display_name": "Python 3",
   "language": "python",
   "name": "python3"
  },
  "language_info": {
   "codemirror_mode": {
    "name": "ipython",
    "version": 3
   },
   "file_extension": ".py",
   "mimetype": "text/x-python",
   "name": "python",
   "nbconvert_exporter": "python",
   "pygments_lexer": "ipython3",
   "version": "3.6.3"
  }
 },
 "nbformat": 4,
 "nbformat_minor": 2
}
